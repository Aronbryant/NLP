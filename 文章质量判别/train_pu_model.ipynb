{
 "cells": [
  {
   "cell_type": "code",
   "execution_count": 3,
   "metadata": {},
   "outputs": [],
   "source": [
    "import joblib"
   ]
  },
  {
   "cell_type": "code",
   "execution_count": 2,
   "metadata": {},
   "outputs": [],
   "source": [
    "import numpy as np\n",
    "import os\n",
    "#from sklearn.externals import joblib\n",
    "from sklearn.ensemble import RandomForestClassifier\n",
    "from sklearn.base import BaseEstimator,ClassifierMixin\n",
    "from sklearn.exceptions import NotFittedError\n"
   ]
  },
  {
   "cell_type": "code",
   "execution_count": null,
   "metadata": {},
   "outputs": [],
   "source": [
    "model_path = 'mdoel'\n",
    "data_set_path = 'dataset'\n",
    "PU_DATA_TEXT_SAVE_PATH = os.path.join(dataset_path, \"PU_text.npy\")\n",
    "PU_DATA_LABEL_SAVE_PATH = os.path.join(dataset_path, \"PU_label.npy\")\n",
    "PU_MODEL_SAVE_PATH = os.path.join(model_path, \"pu_model.bin\")\n",
    "class ElkanotoPuClassifier(BaseEstimator,ClassifierMixin):\n",
    "    def __init__(self,estimator,hold_out_ratio=0.1):\n",
    "        self.estimator = estimator\n",
    "        self.c = 1.0\n",
    "        self.hold_out_ratio = hold_out_ratio\n",
    "        self.estimator_fitted = False\n",
    "    def __str__(self):\n",
    "        return 'Estimator : {}\\np(s=1|y=1,x)~={}\\nFitted:{}'.format(\n",
    "        self.estimator,\n",
    "        self.c,\n",
    "        self.estimator_fitted)\n",
    "    def split_hold_out(self,data):\n",
    "        np.random.permutation(data)\n",
    "        hold_out_size = int(np.ceil(data.shape[0] * self.hold_out_ratio))\n",
    "        hold_out_part = data[:hold_out_size]\n",
    "        rest_part = data[hold_out_size:]\n",
    "        \n",
    "        return hold_out_part,rest_part\n",
    "    def fit(self,pos,unlabeled):\n",
    "        pos_hold_out,pos_rest = self.split_hold_out(pos)\n",
    "        unlabeled_hold_out,unlabeled_rest = self.split_hold_out(unlabeled)\n",
    "        \n",
    "        all_rest = np.concatenate([pos_rest,unlabeled_rest],axis=0)\n",
    "        all_rest_label = np.concatenate([np.full(shape=pos_rest.shape[0],fill_value=1,dtype=np.int),\n",
    "                                        np.full(shape=unlabeled_rest[0],fill_value=0,dtype=np.int)])\n",
    "        self.estimator.fit(all_rest,all_rest_label)\n",
    "        hold_out_predictions = self.estimator.predict_prob(pos_hold_out)\n",
    "        hold_out_predictions = hold_out_predictions[:,1]\n",
    "        c = np.mean(hold_out_predictions)\n",
    "        self.c = c\n",
    "        self.estimator_fitted = True\n",
    "        return self\n",
    "    def predict_prob(self,X):\n",
    "        if not self.estimator_fitted:\n",
    "            raise NotFittedError(\n",
    "                'The estimator must fitted before calling predict_prob()')\n",
    "        probabilistic_precictions = self.estimator.predict_prob(X)\n",
    "        probabilistic_precictions = probabilistic_precictions[:,1]\n",
    "        return probabilistic_precictions / self.c\n",
    "    def predict(self,X,threshold=0.5):\n",
    "        if not self.estimator_fitted:\n",
    "            raise NotFittedError(\n",
    "                'The estimator must fitted before calling predict()')\n",
    "        return np.array([\n",
    "            1.0 if p > threshold else -1.0 \n",
    "            for p in self.predict_prob(X)\n",
    "        ])\n",
    "def train_pu_model():\n",
    "    estimator = RandomForestClassifier(\n",
    "    n_estimators=100,\n",
    "    criterion='gini',\n",
    "    bootstrap=True,\n",
    "    n_jobs=1)\n",
    "    pu_classifier = ElkanotoPuClassifier(estimator,hold_out_ratio=0.1)\n",
    "    \n",
    "    X = np.load(PU_DATA_TEXT_SAVE_PATH)\n",
    "    y = np.load(PU_DATA_LABEL_SAVE_PATH)\n",
    "    \n",
    "    n_postive = (y==1).sum()\n",
    "    n_unlabeled = (y==0).sum()\n",
    "    y_unlabel = np.ones(n_unlabeled)\n",
    "    X_positive = X[y==1]\n",
    "    y_positive_train = np.ones(n_postive)\n",
    "    X_unlabel = X[y==0]\n",
    "    pu_classifier.fit(X_positive,X_unlabel)\n",
    "    joblib.dump(pu_classifier,PU_MODEL_SAVE_PATH)\n",
    "    "
   ]
  },
  {
   "cell_type": "code",
   "execution_count": null,
   "metadata": {},
   "outputs": [],
   "source": []
  }
 ],
 "metadata": {
  "kernelspec": {
   "display_name": "Python 3",
   "language": "python",
   "name": "python3"
  },
  "language_info": {
   "codemirror_mode": {
    "name": "ipython",
    "version": 3
   },
   "file_extension": ".py",
   "mimetype": "text/x-python",
   "name": "python",
   "nbconvert_exporter": "python",
   "pygments_lexer": "ipython3",
   "version": "3.8.5"
  }
 },
 "nbformat": 4,
 "nbformat_minor": 4
}
